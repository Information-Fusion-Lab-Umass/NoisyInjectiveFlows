{
 "cells": [
  {
   "cell_type": "code",
   "execution_count": 151,
   "metadata": {},
   "outputs": [
    {
     "name": "stdout",
     "output_type": "stream",
     "text": [
      "The autoreload extension is already loaded. To reload it, use:\n",
      "  %reload_ext autoreload\n"
     ]
    },
    {
     "data": {
      "text/html": [
       "<style>.container { width:100% !important; }</style>"
      ],
      "text/plain": [
       "<IPython.core.display.HTML object>"
      ]
     },
     "metadata": {},
     "output_type": "display_data"
    }
   ],
   "source": [
    "%load_ext autoreload\n",
    "%autoreload 2\n",
    "from IPython.core.display import display, HTML\n",
    "display(HTML(\"<style>.container { width:100% !important; }</style>\"))"
   ]
  },
  {
   "cell_type": "code",
   "execution_count": 262,
   "metadata": {},
   "outputs": [],
   "source": [
    "import numpy as np\n",
    "import matplotlib.pyplot as plt\n",
    "import yaml\n",
    "import glob\n",
    "import copy\n",
    "import pandas as pd\n",
    "import scipy.linalg"
   ]
  },
  {
   "cell_type": "markdown",
   "metadata": {},
   "source": [
    "# Get the comparison yaml file"
   ]
  },
  {
   "cell_type": "code",
   "execution_count": 270,
   "metadata": {},
   "outputs": [],
   "source": [
    "split_comparisons = glob.glob('FID/*tune.yaml')\n",
    "results = {}\n",
    "for path in split_comparisons:\n",
    "    with open(path) as f:\n",
    "        values = yaml.safe_load(f)\n",
    "        \n",
    "    for k, v in values.items():\n",
    "        results[k] = pd.DataFrame(v)"
   ]
  },
  {
   "cell_type": "markdown",
   "metadata": {},
   "source": [
    "# Find the minimum values of s to use based on the validation set"
   ]
  },
  {
   "cell_type": "code",
   "execution_count": 272,
   "metadata": {},
   "outputs": [],
   "source": [
    "minimum_values = {}\n",
    "for name, df in results.items():\n",
    "    min_val = df.score.min()\n",
    "    min_s = df[df.score == min_val]['s'].to_numpy()[0]\n",
    "    \n",
    "    minimum_values[name] = min_s"
   ]
  },
  {
   "cell_type": "markdown",
   "metadata": {},
   "source": [
    "# Load the actual FID results"
   ]
  },
  {
   "cell_type": "code",
   "execution_count": 273,
   "metadata": {},
   "outputs": [],
   "source": [
    "meta_files = glob.glob('FID/*/*.yaml')\n",
    "\n",
    "meta_datas = {}\n",
    "for path in meta_files:\n",
    "    with open(path) as f:\n",
    "        meta = yaml.safe_load(f)\n",
    "    name = path[4:-10]\n",
    "    meta_datas[name] = meta\n",
    "    \n",
    "def get_fids(dataset_name):\n",
    "    files = dict([(key, val) for key, val in meta_datas.items() if dataset_name in key])\n",
    "    ans = {}\n",
    "    for key, val in files.items():\n",
    "        \n",
    "        df = pd.DataFrame(val['settings'])\n",
    "        df['iteration_number'] = val['iteration_number']\n",
    "        df['index'] = df['path'].apply(lambda x: int(x.split('_')[-1]))\n",
    "        \n",
    "        if('glow' in key):\n",
    "            if(df.shape[0] > 1):\n",
    "                df = df[df['index'] > 0]\n",
    "        else:\n",
    "            # Keep the last 15 folders\n",
    "            max_index = df['index'].max()\n",
    "            df = df[df['index'] > max_index - 15]\n",
    "        \n",
    "        ans[key] = df.reset_index()\n",
    "    return ans"
   ]
  },
  {
   "cell_type": "code",
   "execution_count": 274,
   "metadata": {},
   "outputs": [],
   "source": [
    "celeba_scores = get_fids('celeba')\n",
    "cifar_scores = get_fids('cifar')\n",
    "mnist_scores = get_fids('mnist')"
   ]
  },
  {
   "cell_type": "code",
   "execution_count": 275,
   "metadata": {},
   "outputs": [],
   "source": [
    "full_min_scores = {}\n",
    "\n",
    "for score_set in [celeba_scores, cifar_scores, mnist_scores]:\n",
    "\n",
    "    dataset_name = list(score_set.keys())[0].split('_')[0]\n",
    "    try:\n",
    "\n",
    "        min_scores = {}\n",
    "        for i, (name, df) in enumerate(score_set.items()):\n",
    "            if('glow' in name):\n",
    "                continue\n",
    "\n",
    "            corresponding_min = minimum_values[name]\n",
    "            min_index = np.abs(df['s'] - corresponding_min).argmin()\n",
    "            min_score = df.iloc[min_index].score\n",
    "\n",
    "            min_scores[name] = min_score\n",
    "\n",
    "        # Turn into list\n",
    "        sorted_min_scores = sorted(min_scores.items(), key=lambda x: int(x[0].split('_')[-1]))\n",
    "\n",
    "        full_min_scores[dataset_name] = [val[1] for val in sorted_min_scores]\n",
    "    \n",
    "    except:\n",
    "        \n",
    "        full_min_scores[dataset_name] = [-1, -1, -1, -1]\n",
    "        \n",
    "    glow_key = [key for key in score_set.keys() if 'glow' in key][0]\n",
    "    glow_score = score_set[glow_key].iloc[-1].score\n",
    "    \n",
    "    full_min_scores[dataset_name].append(glow_score)"
   ]
  },
  {
   "cell_type": "code",
   "execution_count": 276,
   "metadata": {},
   "outputs": [],
   "source": [
    "df = pd.DataFrame(full_min_scores)\n",
    "df.index = [64, 128, 256, 512, 'GLOW']\n",
    "df.columns = ['CelebA', 'CIFAR-10', 'Fashion MNIST']"
   ]
  },
  {
   "cell_type": "code",
   "execution_count": 277,
   "metadata": {},
   "outputs": [
    {
     "name": "stdout",
     "output_type": "stream",
     "text": [
      "\\begin{tabular}{lrrr}\n",
      "\\toprule\n",
      "{} &     CelebA &   CIFAR-10 &  Fashion MNIST \\\\\n",
      "\\midrule\n",
      "64   &  30.960336 &  80.150178 &      23.978618 \\\\\n",
      "128  &  34.465172 &  79.386961 &      23.233066 \\\\\n",
      "256  &  33.950003 &  78.440733 &      24.842087 \\\\\n",
      "512  &  35.960198 &  77.479778 &      25.342172 \\\\\n",
      "GLOW &  63.071708 &  78.581376 &      42.775308 \\\\\n",
      "\\bottomrule\n",
      "\\end{tabular}\n",
      "\n"
     ]
    }
   ],
   "source": [
    "print(df.to_latex())"
   ]
  },
  {
   "cell_type": "code",
   "execution_count": null,
   "metadata": {},
   "outputs": [],
   "source": []
  },
  {
   "cell_type": "code",
   "execution_count": null,
   "metadata": {},
   "outputs": [],
   "source": []
  },
  {
   "cell_type": "code",
   "execution_count": null,
   "metadata": {},
   "outputs": [],
   "source": []
  },
  {
   "cell_type": "code",
   "execution_count": 290,
   "metadata": {},
   "outputs": [],
   "source": [
    "path_64 = glob.glob('Results/*/cifar_64_test_embeddings.npz')[0]\n",
    "with np.load(path_64) as data:\n",
    "    z_64, y_64, u_64 = data['z'], data['y'], data['u']"
   ]
  },
  {
   "cell_type": "code",
   "execution_count": 291,
   "metadata": {},
   "outputs": [],
   "source": [
    "path_glow = glob.glob('Results/*/cifar_glow_test_embeddings.npz')[0]\n",
    "with np.load(path_glow) as data:\n",
    "    z_glow, y_glow, u_glow = data['z'], data['y'], data['u']"
   ]
  },
  {
   "cell_type": "code",
   "execution_count": 301,
   "metadata": {},
   "outputs": [],
   "source": [
    "glow_data = np.hstack([u_glow, y_glow[:,None], np.zeros_like(y_glow)[:,None]])"
   ]
  },
  {
   "cell_type": "code",
   "execution_count": 302,
   "metadata": {},
   "outputs": [],
   "source": [
    "nif_data = np.hstack([u_64, y_64[:,None], np.ones_like(y_64)[:,None]])"
   ]
  },
  {
   "cell_type": "code",
   "execution_count": 306,
   "metadata": {},
   "outputs": [],
   "source": [
    "df = pd.DataFrame(np.vstack([nif_data, glow_data]), columns=['x', 'y', 'category', 'algorithm'])"
   ]
  },
  {
   "cell_type": "code",
   "execution_count": 310,
   "metadata": {},
   "outputs": [],
   "source": [
    "df = df.astype({'category':int})"
   ]
  },
  {
   "cell_type": "code",
   "execution_count": 311,
   "metadata": {},
   "outputs": [
    {
     "data": {
      "text/html": [
       "<div>\n",
       "<style scoped>\n",
       "    .dataframe tbody tr th:only-of-type {\n",
       "        vertical-align: middle;\n",
       "    }\n",
       "\n",
       "    .dataframe tbody tr th {\n",
       "        vertical-align: top;\n",
       "    }\n",
       "\n",
       "    .dataframe thead th {\n",
       "        text-align: right;\n",
       "    }\n",
       "</style>\n",
       "<table border=\"1\" class=\"dataframe\">\n",
       "  <thead>\n",
       "    <tr style=\"text-align: right;\">\n",
       "      <th></th>\n",
       "      <th>x</th>\n",
       "      <th>y</th>\n",
       "      <th>category</th>\n",
       "      <th>algorithm</th>\n",
       "    </tr>\n",
       "  </thead>\n",
       "  <tbody>\n",
       "    <tr>\n",
       "      <th>0</th>\n",
       "      <td>-2.097250</td>\n",
       "      <td>0.171886</td>\n",
       "      <td>3</td>\n",
       "      <td>1.0</td>\n",
       "    </tr>\n",
       "    <tr>\n",
       "      <th>1</th>\n",
       "      <td>4.408762</td>\n",
       "      <td>1.097425</td>\n",
       "      <td>8</td>\n",
       "      <td>1.0</td>\n",
       "    </tr>\n",
       "    <tr>\n",
       "      <th>2</th>\n",
       "      <td>1.581044</td>\n",
       "      <td>-1.343657</td>\n",
       "      <td>5</td>\n",
       "      <td>1.0</td>\n",
       "    </tr>\n",
       "    <tr>\n",
       "      <th>3</th>\n",
       "      <td>-1.425326</td>\n",
       "      <td>-3.071453</td>\n",
       "      <td>4</td>\n",
       "      <td>1.0</td>\n",
       "    </tr>\n",
       "    <tr>\n",
       "      <th>4</th>\n",
       "      <td>0.488655</td>\n",
       "      <td>5.978664</td>\n",
       "      <td>0</td>\n",
       "      <td>1.0</td>\n",
       "    </tr>\n",
       "    <tr>\n",
       "      <th>...</th>\n",
       "      <td>...</td>\n",
       "      <td>...</td>\n",
       "      <td>...</td>\n",
       "      <td>...</td>\n",
       "    </tr>\n",
       "    <tr>\n",
       "      <th>47995</th>\n",
       "      <td>2.124771</td>\n",
       "      <td>12.533604</td>\n",
       "      <td>8</td>\n",
       "      <td>0.0</td>\n",
       "    </tr>\n",
       "    <tr>\n",
       "      <th>47996</th>\n",
       "      <td>1.876477</td>\n",
       "      <td>13.597491</td>\n",
       "      <td>3</td>\n",
       "      <td>0.0</td>\n",
       "    </tr>\n",
       "    <tr>\n",
       "      <th>47997</th>\n",
       "      <td>1.073510</td>\n",
       "      <td>10.969111</td>\n",
       "      <td>5</td>\n",
       "      <td>0.0</td>\n",
       "    </tr>\n",
       "    <tr>\n",
       "      <th>47998</th>\n",
       "      <td>2.032319</td>\n",
       "      <td>13.578838</td>\n",
       "      <td>1</td>\n",
       "      <td>0.0</td>\n",
       "    </tr>\n",
       "    <tr>\n",
       "      <th>47999</th>\n",
       "      <td>2.360548</td>\n",
       "      <td>12.859360</td>\n",
       "      <td>7</td>\n",
       "      <td>0.0</td>\n",
       "    </tr>\n",
       "  </tbody>\n",
       "</table>\n",
       "<p>48000 rows × 4 columns</p>\n",
       "</div>"
      ],
      "text/plain": [
       "              x          y  category  algorithm\n",
       "0     -2.097250   0.171886         3        1.0\n",
       "1      4.408762   1.097425         8        1.0\n",
       "2      1.581044  -1.343657         5        1.0\n",
       "3     -1.425326  -3.071453         4        1.0\n",
       "4      0.488655   5.978664         0        1.0\n",
       "...         ...        ...       ...        ...\n",
       "47995  2.124771  12.533604         8        0.0\n",
       "47996  1.876477  13.597491         3        0.0\n",
       "47997  1.073510  10.969111         5        0.0\n",
       "47998  2.032319  13.578838         1        0.0\n",
       "47999  2.360548  12.859360         7        0.0\n",
       "\n",
       "[48000 rows x 4 columns]"
      ]
     },
     "execution_count": 311,
     "metadata": {},
     "output_type": "execute_result"
    }
   ],
   "source": [
    "df"
   ]
  },
  {
   "cell_type": "code",
   "execution_count": 316,
   "metadata": {},
   "outputs": [],
   "source": [
    "df['algorithm'] = df['algorithm'].map({1.0: 'nif', 0.0: 'nf'})"
   ]
  },
  {
   "cell_type": "code",
   "execution_count": 318,
   "metadata": {},
   "outputs": [],
   "source": [
    "df.to_csv('embeddings_data')"
   ]
  },
  {
   "cell_type": "code",
   "execution_count": null,
   "metadata": {},
   "outputs": [],
   "source": []
  }
 ],
 "metadata": {
  "kernelspec": {
   "display_name": "flow",
   "language": "python",
   "name": "flow"
  },
  "language_info": {
   "codemirror_mode": {
    "name": "ipython",
    "version": 3
   },
   "file_extension": ".py",
   "mimetype": "text/x-python",
   "name": "python",
   "nbconvert_exporter": "python",
   "pygments_lexer": "ipython3",
   "version": "3.7.7"
  }
 },
 "nbformat": 4,
 "nbformat_minor": 4
}
